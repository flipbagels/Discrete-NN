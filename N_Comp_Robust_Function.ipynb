{
 "cells": [
  {
   "cell_type": "code",
   "execution_count": 373,
   "metadata": {},
   "outputs": [],
   "source": [
    "import torch\n",
    "import torch.nn as nn\n",
    "import torch.nn.functional as F\n",
    "import numpy as np\n",
    "import matplotlib.pyplot as plt\n",
    "from tqdm import tqdm"
   ]
  },
  {
   "cell_type": "code",
   "execution_count": 239,
   "metadata": {},
   "outputs": [],
   "source": [
    "n = 2    # number of inputs\n",
    "h = 2    # width of hidden layer\n",
    "l = n*h + h + h + 1    # number of network hyperparameters\n",
    "k = 3    # base (e.g. 3 if hyperparameters take values -1,0,1)"
   ]
  },
  {
   "cell_type": "code",
   "execution_count": 381,
   "metadata": {},
   "outputs": [],
   "source": [
    "# Define functions\n",
    "\n",
    "def binary(n, length=1):\n",
    "    if n == 0:\n",
    "        return length*'0'\n",
    "    nums = []\n",
    "    while n:\n",
    "        n, r = divmod(n, 2)\n",
    "        nums.append(str(r))\n",
    "    if length > len(nums):\n",
    "        for i in range(length-len(nums)):\n",
    "            nums.append('0')\n",
    "    return ''.join(reversed(nums))\n",
    "\n",
    "def ternary(n, length=1):\n",
    "    if n == 0:\n",
    "        return length*'0'\n",
    "    nums = []\n",
    "    while n:\n",
    "        n, r = divmod(n, 3)\n",
    "        nums.append(str(r))\n",
    "    if length > len(nums):\n",
    "        for i in range(length-len(nums)):\n",
    "            nums.append('0')\n",
    "    return ''.join(reversed(nums))\n",
    "\n",
    "def hamming_pair(string1, string2):\n",
    "    if len(string1) != len(string2):\n",
    "        raise Exception('Input string sizes do not match')\n",
    "        \n",
    "    if string1 == string2:\n",
    "        return False\n",
    "    \n",
    "    count_diffs = 0\n",
    "    for a, b in zip(string1, string2):\n",
    "        if a!=b:\n",
    "            if count_diffs:\n",
    "                return False\n",
    "            else:\n",
    "                count_diffs += 1\n",
    "    return True\n",
    "\n",
    "def assign_weights(func_num_tern, n, h, l, k):\n",
    "    \n",
    "    if len(func_num_tern) != l:\n",
    "        raise Exception('Function length and number of hyperparameters do not match')\n",
    "    \n",
    "    W1 = torch.zeros((h,n), dtype=int)\n",
    "    b1 = torch.zeros((h,1), dtype=int)\n",
    "    W2 = torch.zeros((1,h), dtype=int)\n",
    "    b2 = torch.zeros((1,1), dtype=int)\n",
    "    \n",
    "    digit_ind = 0\n",
    "    for i in range(h):\n",
    "        for j in range(n):\n",
    "            W1[i,j] = int(func_num_tern[digit_ind]) - (k-2)\n",
    "            digit_ind += 1\n",
    "    for i in range(h):\n",
    "        b1[i,0] = int(func_num_tern[digit_ind]) - (k-2)\n",
    "        digit_ind += 1\n",
    "    for i in range(h):\n",
    "        W2[0,i] = int(func_num_tern[digit_ind]) - (k-2)\n",
    "        digit_ind += 1\n",
    "    b2[0,0] = int(func_num_tern[digit_ind]) - (k-2)\n",
    "    \n",
    "    return [W1, b1, W2, b2]"
   ]
  },
  {
   "cell_type": "code",
   "execution_count": 389,
   "metadata": {},
   "outputs": [],
   "source": [
    "# Define neural network\n",
    "\n",
    "class Net(nn.Module):\n",
    "    def __init__(self, params):\n",
    "        super().__init__()\n",
    "        self.W1 = params[0]\n",
    "        self.b1 = params[1]\n",
    "        self.W2 = params[2]\n",
    "        self.b2 = params[3]\n",
    "        self.relu = nn.ReLU()\n",
    "    \n",
    "    def forward(self, x):\n",
    "        out = self.W1@x + self.b1\n",
    "        out = self.relu(out)\n",
    "        out = self.W2@out + self.b2\n",
    "        out = self.relu(torch.sign(out))\n",
    "        return out"
   ]
  },
  {
   "cell_type": "code",
   "execution_count": 374,
   "metadata": {},
   "outputs": [
    {
     "name": "stderr",
     "output_type": "stream",
     "text": [
      "100%|███████████████████████████████████████████████████████████████████████████| 19683/19683 [00:24<00:00, 799.97it/s]\n"
     ]
    }
   ],
   "source": [
    "func_dict = {}\n",
    "\n",
    "for func_num in tqdm(range(k**l)):\n",
    "    func_num_tern = ternary(func_num, l)\n",
    "    params = assign_weights(func_num_tern, n, h, l, k)\n",
    "    bool_func = Net(params)\n",
    "    func_true = []\n",
    "    \n",
    "    for func_in in range(2**n):\n",
    "        \n",
    "        x = torch.zeros((n,1), dtype=int)\n",
    "        func_in_bin = binary(func_in, n)\n",
    "        \n",
    "        digit_ind = 0\n",
    "        for i in range(n):\n",
    "            x[i,0] = int(func_in_bin[digit_ind])\n",
    "            digit_ind += 1\n",
    "       \n",
    "        func_true.append(str(bool_func.forward(x).item()))\n",
    "    \n",
    "    func_dict[func_num] = ''.join(func_true)"
   ]
  },
  {
   "cell_type": "code",
   "execution_count": 399,
   "metadata": {},
   "outputs": [
    {
     "name": "stderr",
     "output_type": "stream",
     "text": [
      "100%|████████████████████████████████████████████████████████████████████████████| 19683/19683 [14:10<00:00, 23.14it/s]\n"
     ]
    },
    {
     "ename": "KeyboardInterrupt",
     "evalue": "",
     "output_type": "error",
     "traceback": [
      "\u001b[1;31m---------------------------------------------------------------------------\u001b[0m",
      "\u001b[1;31mKeyboardInterrupt\u001b[0m                         Traceback (most recent call last)",
      "\u001b[1;32m<ipython-input-399-0c538a98d4ea>\u001b[0m in \u001b[0;36m<module>\u001b[1;34m\u001b[0m\n\u001b[0;32m     44\u001b[0m                 \u001b[1;32mfor\u001b[0m \u001b[0mkey_j\u001b[0m \u001b[1;32min\u001b[0m \u001b[0mNC\u001b[0m\u001b[1;33m[\u001b[0m\u001b[0mtrue_func\u001b[0m\u001b[1;33m]\u001b[0m\u001b[1;33m:\u001b[0m\u001b[1;33m\u001b[0m\u001b[1;33m\u001b[0m\u001b[0m\n\u001b[0;32m     45\u001b[0m                     \u001b[1;32mif\u001b[0m \u001b[0mNC\u001b[0m\u001b[1;33m[\u001b[0m\u001b[0mtrue_func\u001b[0m\u001b[1;33m]\u001b[0m\u001b[1;33m[\u001b[0m\u001b[0mkey_j\u001b[0m\u001b[1;33m]\u001b[0m \u001b[1;33m==\u001b[0m \u001b[0mval\u001b[0m \u001b[1;32mand\u001b[0m \u001b[0mkey_j\u001b[0m \u001b[1;33m>\u001b[0m \u001b[0mkey_i\u001b[0m\u001b[1;33m:\u001b[0m\u001b[1;33m\u001b[0m\u001b[1;33m\u001b[0m\u001b[0m\n\u001b[1;32m---> 46\u001b[1;33m                         \u001b[0mG_N\u001b[0m\u001b[1;33m[\u001b[0m\u001b[0mtrue_func\u001b[0m\u001b[1;33m]\u001b[0m\u001b[1;33m[\u001b[0m\u001b[0mval\u001b[0m\u001b[1;33m]\u001b[0m\u001b[1;33m[\u001b[0m\u001b[1;36m1\u001b[0m\u001b[1;33m]\u001b[0m \u001b[1;33m=\u001b[0m \u001b[0mG_N\u001b[0m\u001b[1;33m[\u001b[0m\u001b[0mtrue_func\u001b[0m\u001b[1;33m]\u001b[0m\u001b[1;33m[\u001b[0m\u001b[0mval\u001b[0m\u001b[1;33m]\u001b[0m\u001b[1;33m[\u001b[0m\u001b[1;36m1\u001b[0m\u001b[1;33m]\u001b[0m \u001b[1;33m+\u001b[0m \u001b[0mhamming_pair\u001b[0m\u001b[1;33m(\u001b[0m\u001b[0mternary\u001b[0m\u001b[1;33m(\u001b[0m\u001b[0mkey_i\u001b[0m\u001b[1;33m,\u001b[0m \u001b[0ml\u001b[0m\u001b[1;33m)\u001b[0m\u001b[1;33m,\u001b[0m \u001b[0mternary\u001b[0m\u001b[1;33m(\u001b[0m\u001b[0mkey_j\u001b[0m\u001b[1;33m,\u001b[0m \u001b[0ml\u001b[0m\u001b[1;33m)\u001b[0m\u001b[1;33m)\u001b[0m\u001b[1;33m\u001b[0m\u001b[1;33m\u001b[0m\u001b[0m\n\u001b[0m\u001b[0;32m     47\u001b[0m                     \u001b[1;32melse\u001b[0m\u001b[1;33m:\u001b[0m\u001b[1;33m\u001b[0m\u001b[1;33m\u001b[0m\u001b[0m\n\u001b[0;32m     48\u001b[0m                         \u001b[1;32mpass\u001b[0m\u001b[1;33m\u001b[0m\u001b[1;33m\u001b[0m\u001b[0m\n",
      "\u001b[1;32m<ipython-input-381-4fa0c7461c04>\u001b[0m in \u001b[0;36mternary\u001b[1;34m(n, length)\u001b[0m\n\u001b[0;32m     17\u001b[0m     \u001b[1;32mwhile\u001b[0m \u001b[0mn\u001b[0m\u001b[1;33m:\u001b[0m\u001b[1;33m\u001b[0m\u001b[1;33m\u001b[0m\u001b[0m\n\u001b[0;32m     18\u001b[0m         \u001b[0mn\u001b[0m\u001b[1;33m,\u001b[0m \u001b[0mr\u001b[0m \u001b[1;33m=\u001b[0m \u001b[0mdivmod\u001b[0m\u001b[1;33m(\u001b[0m\u001b[0mn\u001b[0m\u001b[1;33m,\u001b[0m \u001b[1;36m3\u001b[0m\u001b[1;33m)\u001b[0m\u001b[1;33m\u001b[0m\u001b[1;33m\u001b[0m\u001b[0m\n\u001b[1;32m---> 19\u001b[1;33m         \u001b[0mnums\u001b[0m\u001b[1;33m.\u001b[0m\u001b[0mappend\u001b[0m\u001b[1;33m(\u001b[0m\u001b[0mstr\u001b[0m\u001b[1;33m(\u001b[0m\u001b[0mr\u001b[0m\u001b[1;33m)\u001b[0m\u001b[1;33m)\u001b[0m\u001b[1;33m\u001b[0m\u001b[1;33m\u001b[0m\u001b[0m\n\u001b[0m\u001b[0;32m     20\u001b[0m     \u001b[1;32mif\u001b[0m \u001b[0mlength\u001b[0m \u001b[1;33m>\u001b[0m \u001b[0mlen\u001b[0m\u001b[1;33m(\u001b[0m\u001b[0mnums\u001b[0m\u001b[1;33m)\u001b[0m\u001b[1;33m:\u001b[0m\u001b[1;33m\u001b[0m\u001b[1;33m\u001b[0m\u001b[0m\n\u001b[0;32m     21\u001b[0m         \u001b[1;32mfor\u001b[0m \u001b[0mi\u001b[0m \u001b[1;32min\u001b[0m \u001b[0mrange\u001b[0m\u001b[1;33m(\u001b[0m\u001b[0mlength\u001b[0m\u001b[1;33m-\u001b[0m\u001b[0mlen\u001b[0m\u001b[1;33m(\u001b[0m\u001b[0mnums\u001b[0m\u001b[1;33m)\u001b[0m\u001b[1;33m)\u001b[0m\u001b[1;33m:\u001b[0m\u001b[1;33m\u001b[0m\u001b[1;33m\u001b[0m\u001b[0m\n",
      "\u001b[1;31mKeyboardInterrupt\u001b[0m: "
     ]
    }
   ],
   "source": [
    "freq = []\n",
    "rho = []\n",
    "LZ = []\n",
    "\n",
    "NC = []\n",
    "for i in range(2**(2**n)):\n",
    "    NC.append({})\n",
    "\n",
    "count = 0\n",
    "for i in tqdm(func_dict):\n",
    "    for func_true in range(2**(2**n)):\n",
    "        if func_dict[i] == binary(func_true, 2**n):\n",
    "            com_ind = []\n",
    "            for key in NC[func_true]:\n",
    "                if hamming_pair(ternary(i, l), ternary(key, l)):\n",
    "                    com_ind.append(NC[func_true][key])\n",
    "                else:\n",
    "                    pass\n",
    "            if len(com_ind)>0:\n",
    "                NC[func_true][i] = min(com_ind)\n",
    "                for key in NC[func_true]:\n",
    "                    if NC[func_true][key] in com_ind:\n",
    "                        NC[func_true][key] = min(com_ind)\n",
    "            else:\n",
    "                NC[func_true][i] = count\n",
    "                count += 1\n",
    "        else:\n",
    "            pass"
   ]
  },
  {
   "cell_type": "code",
   "execution_count": 401,
   "metadata": {},
   "outputs": [
    {
     "name": "stderr",
     "output_type": "stream",
     "text": [
      "  1%|▋                                                                              | 93/10752 [00:21<41:39,  4.26it/s]\n"
     ]
    },
    {
     "ename": "KeyboardInterrupt",
     "evalue": "",
     "output_type": "error",
     "traceback": [
      "\u001b[1;31m---------------------------------------------------------------------------\u001b[0m",
      "\u001b[1;31mKeyboardInterrupt\u001b[0m                         Traceback (most recent call last)",
      "\u001b[1;32m<ipython-input-401-4e25909b9a24>\u001b[0m in \u001b[0;36m<module>\u001b[1;34m\u001b[0m\n\u001b[0;32m     15\u001b[0m                 \u001b[1;32mfor\u001b[0m \u001b[0mkey_j\u001b[0m \u001b[1;32min\u001b[0m \u001b[0mNC\u001b[0m\u001b[1;33m[\u001b[0m\u001b[0mtrue_func\u001b[0m\u001b[1;33m]\u001b[0m\u001b[1;33m:\u001b[0m\u001b[1;33m\u001b[0m\u001b[1;33m\u001b[0m\u001b[0m\n\u001b[0;32m     16\u001b[0m                     \u001b[1;32mif\u001b[0m \u001b[0mNC\u001b[0m\u001b[1;33m[\u001b[0m\u001b[0mtrue_func\u001b[0m\u001b[1;33m]\u001b[0m\u001b[1;33m[\u001b[0m\u001b[0mkey_j\u001b[0m\u001b[1;33m]\u001b[0m \u001b[1;33m==\u001b[0m \u001b[0mval\u001b[0m \u001b[1;32mand\u001b[0m \u001b[0mkey_j\u001b[0m \u001b[1;33m>\u001b[0m \u001b[0mkey_i\u001b[0m\u001b[1;33m:\u001b[0m\u001b[1;33m\u001b[0m\u001b[1;33m\u001b[0m\u001b[0m\n\u001b[1;32m---> 17\u001b[1;33m                         \u001b[0mG_N\u001b[0m\u001b[1;33m[\u001b[0m\u001b[0mtrue_func\u001b[0m\u001b[1;33m]\u001b[0m\u001b[1;33m[\u001b[0m\u001b[0mval\u001b[0m\u001b[1;33m]\u001b[0m\u001b[1;33m[\u001b[0m\u001b[1;36m1\u001b[0m\u001b[1;33m]\u001b[0m \u001b[1;33m=\u001b[0m \u001b[0mG_N\u001b[0m\u001b[1;33m[\u001b[0m\u001b[0mtrue_func\u001b[0m\u001b[1;33m]\u001b[0m\u001b[1;33m[\u001b[0m\u001b[0mval\u001b[0m\u001b[1;33m]\u001b[0m\u001b[1;33m[\u001b[0m\u001b[1;36m1\u001b[0m\u001b[1;33m]\u001b[0m \u001b[1;33m+\u001b[0m \u001b[0mhamming_pair\u001b[0m\u001b[1;33m(\u001b[0m\u001b[0mternary\u001b[0m\u001b[1;33m(\u001b[0m\u001b[0mkey_i\u001b[0m\u001b[1;33m,\u001b[0m \u001b[0ml\u001b[0m\u001b[1;33m)\u001b[0m\u001b[1;33m,\u001b[0m \u001b[0mternary\u001b[0m\u001b[1;33m(\u001b[0m\u001b[0mkey_j\u001b[0m\u001b[1;33m,\u001b[0m \u001b[0ml\u001b[0m\u001b[1;33m)\u001b[0m\u001b[1;33m)\u001b[0m\u001b[1;33m\u001b[0m\u001b[1;33m\u001b[0m\u001b[0m\n\u001b[0m\u001b[0;32m     18\u001b[0m                     \u001b[1;32melse\u001b[0m\u001b[1;33m:\u001b[0m\u001b[1;33m\u001b[0m\u001b[1;33m\u001b[0m\u001b[0m\n\u001b[0;32m     19\u001b[0m                         \u001b[1;32mpass\u001b[0m\u001b[1;33m\u001b[0m\u001b[1;33m\u001b[0m\u001b[0m\n",
      "\u001b[1;32m<ipython-input-381-4fa0c7461c04>\u001b[0m in \u001b[0;36mternary\u001b[1;34m(n, length)\u001b[0m\n\u001b[0;32m     17\u001b[0m     \u001b[1;32mwhile\u001b[0m \u001b[0mn\u001b[0m\u001b[1;33m:\u001b[0m\u001b[1;33m\u001b[0m\u001b[1;33m\u001b[0m\u001b[0m\n\u001b[0;32m     18\u001b[0m         \u001b[0mn\u001b[0m\u001b[1;33m,\u001b[0m \u001b[0mr\u001b[0m \u001b[1;33m=\u001b[0m \u001b[0mdivmod\u001b[0m\u001b[1;33m(\u001b[0m\u001b[0mn\u001b[0m\u001b[1;33m,\u001b[0m \u001b[1;36m3\u001b[0m\u001b[1;33m)\u001b[0m\u001b[1;33m\u001b[0m\u001b[1;33m\u001b[0m\u001b[0m\n\u001b[1;32m---> 19\u001b[1;33m         \u001b[0mnums\u001b[0m\u001b[1;33m.\u001b[0m\u001b[0mappend\u001b[0m\u001b[1;33m(\u001b[0m\u001b[0mstr\u001b[0m\u001b[1;33m(\u001b[0m\u001b[0mr\u001b[0m\u001b[1;33m)\u001b[0m\u001b[1;33m)\u001b[0m\u001b[1;33m\u001b[0m\u001b[1;33m\u001b[0m\u001b[0m\n\u001b[0m\u001b[0;32m     20\u001b[0m     \u001b[1;32mif\u001b[0m \u001b[0mlength\u001b[0m \u001b[1;33m>\u001b[0m \u001b[0mlen\u001b[0m\u001b[1;33m(\u001b[0m\u001b[0mnums\u001b[0m\u001b[1;33m)\u001b[0m\u001b[1;33m:\u001b[0m\u001b[1;33m\u001b[0m\u001b[1;33m\u001b[0m\u001b[0m\n\u001b[0;32m     21\u001b[0m         \u001b[1;32mfor\u001b[0m \u001b[0mi\u001b[0m \u001b[1;32min\u001b[0m \u001b[0mrange\u001b[0m\u001b[1;33m(\u001b[0m\u001b[0mlength\u001b[0m\u001b[1;33m-\u001b[0m\u001b[0mlen\u001b[0m\u001b[1;33m(\u001b[0m\u001b[0mnums\u001b[0m\u001b[1;33m)\u001b[0m\u001b[1;33m)\u001b[0m\u001b[1;33m:\u001b[0m\u001b[1;33m\u001b[0m\u001b[1;33m\u001b[0m\u001b[0m\n",
      "\u001b[1;31mKeyboardInterrupt\u001b[0m: "
     ]
    }
   ],
   "source": [
    "G_N = []\n",
    "for i in range(2**(2**n)):\n",
    "    G_N.append({})\n",
    "        \n",
    "ind = []\n",
    "for func_true in range(2**(2**n)):\n",
    "    ind.append(sorted(set(NC[func_true].values())))\n",
    "\n",
    "for true_func in range(2**(2**n)):\n",
    "    for val in ind[true_func]:\n",
    "        G_N[true_func][val] = [0,0]\n",
    "        for key_i in tqdm(NC[true_func]):\n",
    "            if NC[true_func][key_i] == val:\n",
    "                G_N[true_func][val][0] += 1\n",
    "                for key_j in NC[true_func]:\n",
    "                    if NC[true_func][key_j] == val and key_j > key_i:\n",
    "                        G_N[true_func][val][1] = G_N[true_func][val][1] + hamming_pair(ternary(key_i, l), ternary(key_j, l))\n",
    "                    else:\n",
    "                        pass\n",
    "            else:\n",
    "                pass\n",
    "\n",
    "for func_true in range(2**(2**n)):\n",
    "    for key in G_N[true_func]:\n",
    "        rho_val = (2*float(G_N[func_true][key][1]))/(l*(k-1)*float(G_N[func_true][key][0]))\n",
    "        rho.append(rho_val)\n",
    "        freq_val = G_N[func_true][key][0]\n",
    "        freq.append(freq_val)"
   ]
  }
 ],
 "metadata": {
  "kernelspec": {
   "display_name": "Python 3",
   "language": "python",
   "name": "python3"
  },
  "language_info": {
   "codemirror_mode": {
    "name": "ipython",
    "version": 3
   },
   "file_extension": ".py",
   "mimetype": "text/x-python",
   "name": "python",
   "nbconvert_exporter": "python",
   "pygments_lexer": "ipython3",
   "version": "3.8.5"
  }
 },
 "nbformat": 4,
 "nbformat_minor": 4
}
