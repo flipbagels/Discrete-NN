{
 "cells": [
  {
   "cell_type": "code",
   "execution_count": 1,
   "metadata": {},
   "outputs": [
    {
     "name": "stderr",
     "output_type": "stream",
     "text": [
      "c:\\Users\\lseie\\Anaconda3\\lib\\site-packages\\pandas\\core\\computation\\expressions.py:20: UserWarning: Pandas requires version '2.7.3' or newer of 'numexpr' (version '2.7.1' currently installed).\n",
      "  from pandas.core.computation.check import NUMEXPR_INSTALLED\n"
     ]
    }
   ],
   "source": [
    "%load_ext autoreload\n",
    "%autoreload 2\n",
    "import numpy as np\n",
    "import pandas as pd\n",
    "from sympy.logic import SOPform, boolalg\n",
    "from sympy import symbols, srepr, Not\n",
    "import re\n",
    "from tqdm import tqdm\n",
    "from BoolFuncModule.BoolFunc import BoolFunc\n",
    "import BoolFuncModule.ParameterAssignment as PA\n",
    "import BoolFuncModule.NNfunctions as NNf\n",
    "import BoolFuncModule.RobustnessFunctions as RF\n",
    "import BoolFuncModule.SOPfunctions as SOPf"
   ]
  },
  {
   "cell_type": "code",
   "execution_count": 2,
   "metadata": {},
   "outputs": [],
   "source": [
    "def ceildiv(a, b):\n",
    "    return -(a // -b)\n",
    "\n",
    "def list_of_ranges(numberOfFunctions, maxLengthOfFile):\n",
    "    nums = list(range(numberOfFunctions))\n",
    "    numFiles = ceildiv(numberOfFunctions, maxLengthOfFile)\n",
    "    numsSplit = [[] for _ in range(numFiles)]\n",
    "    for i in range(numFiles):\n",
    "        if i != numFiles-1:\n",
    "            numsSplit[i] = nums[i*maxLengthOfFile:(i+1)*maxLengthOfFile]\n",
    "        else:\n",
    "            numsSplit[i] = nums[i*maxLengthOfFile:]\n",
    "    return numsSplit"
   ]
  },
  {
   "cell_type": "code",
   "execution_count": 10,
   "metadata": {},
   "outputs": [],
   "source": [
    "n = 4 #input size\n",
    "numberOfFunctions = 2**(2**n)"
   ]
  },
  {
   "cell_type": "code",
   "execution_count": 14,
   "metadata": {},
   "outputs": [],
   "source": [
    "ranges = list_of_ranges(numberOfFunctions, maxLengthOfFile=512)"
   ]
  },
  {
   "cell_type": "code",
   "execution_count": 15,
   "metadata": {},
   "outputs": [
    {
     "name": "stderr",
     "output_type": "stream",
     "text": [
      "100%|██████████| 128/128 [16:56<00:00,  7.94s/it]\n"
     ]
    }
   ],
   "source": [
    "df = pd.DataFrame({'Literals Count': [], 'Clauses Count': [], 'Dimension': []})\n",
    "\n",
    "for i, nums in enumerate(tqdm(ranges)):\n",
    "    df = pd.DataFrame({'Literals Count': [], 'Clauses Count': [], 'Dimension': []})\n",
    "    for j in nums:\n",
    "        truthTable = NNf.binary(j, length=2**n)\n",
    "        SOP = SOPf.function_SOP(truthTable, n)\n",
    "        literalsCount, clausesCount = SOPf.literals_clauses_count(SOP, n)\n",
    "        dimension = literalsCount + clausesCount\n",
    "        newRow = pd.DataFrame({'Literals Count': literalsCount, 'Clauses Count': clausesCount, 'Dimension': dimension}, index=[truthTable])\n",
    "        df = pd.concat([df, newRow], axis=0)\n",
    "    df.to_csv(f'LookUpTables/n{n}/file{i}.csv')\n"
   ]
  },
  {
   "cell_type": "code",
   "execution_count": null,
   "metadata": {},
   "outputs": [],
   "source": []
  }
 ],
 "metadata": {
  "kernelspec": {
   "display_name": "Python 3",
   "language": "python",
   "name": "python3"
  },
  "language_info": {
   "codemirror_mode": {
    "name": "ipython",
    "version": 3
   },
   "file_extension": ".py",
   "mimetype": "text/x-python",
   "name": "python",
   "nbconvert_exporter": "python",
   "pygments_lexer": "ipython3",
   "version": "3.8.5"
  }
 },
 "nbformat": 4,
 "nbformat_minor": 2
}
