{
 "cells": [
  {
   "cell_type": "code",
   "execution_count": 278,
   "metadata": {},
   "outputs": [],
   "source": [
    "import numpy as np\n",
    "import matplotlib.pyplot as plt\n",
    "import pandas as pd"
   ]
  },
  {
   "cell_type": "markdown",
   "metadata": {},
   "source": [
    "Work with l = 3 inputs for now.\n",
    "\n",
    "Then f is indexed by a number bewteen 0 and 255 (8-bit strings)"
   ]
  },
  {
   "cell_type": "code",
   "execution_count": 360,
   "metadata": {},
   "outputs": [],
   "source": [
    "k = 2    # base (i.e. binary)\n",
    "l = 4    # no. inputs"
   ]
  },
  {
   "cell_type": "code",
   "execution_count": 297,
   "metadata": {},
   "outputs": [],
   "source": [
    "def bool_func(func_number, x):    # x number between 0 and 7 indicating the inputs of zeros and ones in binary for the 3 input boolean function.\n",
    "    return (func_number & (1 << x)) >> x\n",
    "\n",
    "def hamming_pair(x, y):\n",
    "    # Determines if two numbers are edge connected in Hamming graph of their binary representations.\n",
    "    z = x ^ y\n",
    "    return z and not(z & (z-1))\n",
    "\n",
    "def LZC(input_str):\n",
    "    # Function to find the LZ complexity of a string.\n",
    "    keys_dict = {}\n",
    "    ind = 0\n",
    "    inc = 1\n",
    "    while True:\n",
    "        if ind+inc > len(input_str):\n",
    "            break\n",
    "        sub_str = input_str[ind:ind + inc]\n",
    "        if sub_str in keys_dict:\n",
    "            inc += 1\n",
    "        else:\n",
    "            keys_dict[sub_str] = 0\n",
    "            ind += inc\n",
    "            inc = 1\n",
    "    len1 = len()\n",
    "    \n",
    "    input_str_rev = input_str[::-1]\n",
    "    keys_dict = {}\n",
    "    ind = 0\n",
    "    inc = 1\n",
    "    while True:\n",
    "        if ind+inc > len(input_str_rev):\n",
    "            break\n",
    "        sub_str = input_str_rev[ind:ind + inc]\n",
    "        if sub_str in keys_dict:\n",
    "            inc += 1\n",
    "        else:\n",
    "            keys_dict[sub_str] = 0\n",
    "            ind += inc\n",
    "            inc = 1\n",
    "    len2 = len(keys_dict)\n",
    "    \n",
    "    return np.log2(l)*(len1+len2)/2"
   ]
  },
  {
   "cell_type": "code",
   "execution_count": 218,
   "metadata": {},
   "outputs": [],
   "source": [
    "func_number = 122\n",
    "NS = np.zeros((2, 8), dtype=np.int8)\n",
    "\n",
    "for i in range(8):\n",
    "    NS[bool_func(func_number, i), i] = 1\n",
    "\n",
    "G = np.zeros((2, 2), dtype=int)    # Defines neutral set graphs\n",
    "        \n",
    "\n",
    "for h in [0, 1]:\n",
    "    for i, val_i in enumerate(NS[h]):\n",
    "        if val_i==1:\n",
    "            G[h,0] = G[h,0] + 1\n",
    "            for j, val_j in enumerate(NS[h]):\n",
    "                if val_j==1 and j > i:\n",
    "                    G[h,1] = G[h,1] + hamming_pair(i, j)\n",
    "                else:\n",
    "                    pass\n",
    "        else:\n",
    "            pass"
   ]
  },
  {
   "cell_type": "code",
   "execution_count": 241,
   "metadata": {},
   "outputs": [
    {
     "data": {
      "text/plain": [
       "0.8"
      ]
     },
     "execution_count": 241,
     "metadata": {},
     "output_type": "execute_result"
    }
   ],
   "source": [
    "r = np.zeros((2), dtype=np.float)\n",
    "\n",
    "r[0] = (2*G[0,1])/(l*(k-1)*G[0,0])\n",
    "r[1] = (2*G[1,1])/(l*(k-1)*G[1,0])\n",
    "\n",
    "r_func = (1/(k**l))*(r[0]*G[0,0] + r[1]*G[1,0])\n",
    "\n",
    "r_func"
   ]
  },
  {
   "cell_type": "code",
   "execution_count": 295,
   "metadata": {},
   "outputs": [
    {
     "data": {
      "text/plain": [
       "'0101111000000000'"
      ]
     },
     "execution_count": 295,
     "metadata": {},
     "output_type": "execute_result"
    }
   ],
   "source": [
    "LZC(format(122, '0'+str(k**l)+'b'))\n",
    "format(122, '0'+str(k**l)+'b')[::-1]"
   ]
  },
  {
   "cell_type": "code",
   "execution_count": 367,
   "metadata": {},
   "outputs": [],
   "source": [
    "# This code plots the robustness of a neutral set against the frequency\n",
    "\n",
    "freq_NS = []\n",
    "rho_NS = []\n",
    "LZ_NS = []\n",
    "\n",
    "for func_number in range(k**(k**l)):\n",
    "    \n",
    "    NS = np.zeros((2, k**l), dtype=np.int8)\n",
    "    G = np.zeros((2, 2), dtype=int)    # Defines neutral set graphs\n",
    "    r = np.zeros((2), dtype=np.float)\n",
    "    \n",
    "    for i in range(k**l):\n",
    "        NS[bool_func(func_number, i), i] = 1\n",
    "            \n",
    "    for h in [0, 1]:\n",
    "        for i, val_i in enumerate(NS[h]):\n",
    "            if val_i==1:\n",
    "                G[h,0] = G[h,0] + 1\n",
    "                for j, val_j in enumerate(NS[h]):\n",
    "                    if val_j==1 and j > i:\n",
    "                        G[h,1] = G[h,1] + hamming_pair(i, j)\n",
    "                    else:\n",
    "                        pass\n",
    "            else:\n",
    "                pass\n",
    "            \n",
    "    #bin_func_num = format(func_number, '0'+str(k**l)+'b')\n",
    "    #complexity = LZC(bin_func_num)\n",
    "    \n",
    "    if G[0,0]!=0:\n",
    "        r[0] = (2*float(G[0,1]))/(l*(k-1)*float(G[0,0]))\n",
    "        freq0 = G[0,0]\n",
    "        freq_NS.append(freq0)\n",
    "        rho_NS.append(r[0])\n",
    "    else:\n",
    "        pass\n",
    "    if G[1,0]!=0:\n",
    "        r[1] = (2*float(G[1,1]))/(l*(k-1)*float(G[1,0]))\n",
    "        freq1 = G[1,0]\n",
    "        freq_NS.append(freq1)\n",
    "        rho_NS.append(r[1])\n",
    "    else:\n",
    "        pass"
   ]
  },
  {
   "cell_type": "code",
   "execution_count": 364,
   "metadata": {},
   "outputs": [],
   "source": [
    "# This code plots the robustness of neutral components agains the frequency\n",
    "\n",
    "freq = []\n",
    "rho = []\n",
    "LZ = []\n",
    "\n",
    "for func_number in range(k**(k**l)):\n",
    "    \n",
    "    NS = np.zeros((2, k**l), dtype=np.int8)\n",
    "    G_N0 = {}    # Defines neutral set graphs for output 0\n",
    "    G_N1 = {}    # Defines neutral set graphs for output 1\n",
    "    r0 = np.zeros((2), dtype=np.float)\n",
    "    NC0 = {}\n",
    "    NC1 = {}\n",
    "    \n",
    "    for i in range(k**l):\n",
    "        NS[bool_func(func_number, i), i] = 1\n",
    "    \n",
    "    count0 = 0\n",
    "    for i, val_i in enumerate(NS[0]):\n",
    "        if val_i==1:\n",
    "            com_ind = []           # Keep track of common indices for new binary sequence to check whether disjoint neutral components now join.\n",
    "            for key in NC0:\n",
    "                if hamming_pair(i, key):\n",
    "                    com_ind.append(NC0[key])\n",
    "            if len(com_ind)>0:\n",
    "                NC0[i] = min(com_ind)\n",
    "                for key in NC0:\n",
    "                    if NC0[key] in com_ind:\n",
    "                        NC0[key] = min(com_ind)\n",
    "            else:\n",
    "                NC0[i] = count0\n",
    "                count0 += 1\n",
    "                \n",
    "    count1 = 0\n",
    "    for i, val_i in enumerate(NS[1]):\n",
    "        if val_i==1:\n",
    "            com_ind = []           # Keep track of common indices for new binary sequence to check whether disjoint neutral components now join.\n",
    "            for key in NC1:\n",
    "                if hamming_pair(i, key):\n",
    "                    com_ind.append(NC1[key])\n",
    "            if len(com_ind)>0:\n",
    "                NC1[i] = min(com_ind)\n",
    "                for key in NC1:\n",
    "                    if NC1[key] in com_ind:\n",
    "                        NC1[key] = min(com_ind)\n",
    "            else:\n",
    "                NC1[i] = count1\n",
    "                count1 += 1\n",
    "    \n",
    "    \n",
    "    ind0 = sorted(set(NC0.values()))\n",
    "    ind1 = sorted(set(NC1.values()))\n",
    "    \n",
    "    for val in ind0:\n",
    "        G_N0[val] = [0,0]\n",
    "        for key_i in NC0:\n",
    "            if NC0[key_i] == val:\n",
    "                G_N0[val][0] += 1\n",
    "                for key_j in NC0:\n",
    "                    if NC0[key_j] == val and key_j > key_i:\n",
    "                        G_N0[val][1] = G_N0[val][1] + hamming_pair(key_i, key_j)\n",
    "                    else:\n",
    "                        pass\n",
    "            else:\n",
    "                pass\n",
    "    \n",
    "    for val in ind1:\n",
    "        G_N1[val] = [0,0]\n",
    "        for key_i in NC1:\n",
    "            if NC1[key_i] == val:\n",
    "                G_N1[val][0] += 1\n",
    "                for key_j in NC1:\n",
    "                    if NC1[key_j] == val and key_j > key_i:\n",
    "                        G_N1[val][1] = G_N1[val][1] + hamming_pair(key_i, key_j)\n",
    "                    else:\n",
    "                        pass\n",
    "            else:\n",
    "                pass  \n",
    "            \n",
    "    #bin_func_num = format(func_number, '0'+str(k**l)+'b')\n",
    "    #complexity = LZC(bin_func_num)\n",
    "    \n",
    "    for key in G_N0:\n",
    "        rho0 = (2*float(G_N0[key][1]))/(l*(k-1)*float(G_N0[key][0]))\n",
    "        rho.append(rho0)\n",
    "        freq0 = G_N0[key][0]\n",
    "        freq.append(freq0)\n",
    "    for key in G_N1:\n",
    "        rho1 = (2*float(G_N1[key][1]))/(l*(k-1)*float(G_N1[key][0]))\n",
    "        rho.append(rho1)\n",
    "        freq1 = G_N1[key][0]\n",
    "        freq.append(freq1)"
   ]
  },
  {
   "cell_type": "code",
   "execution_count": 365,
   "metadata": {},
   "outputs": [
    {
     "data": {
      "text/plain": [
       "211626"
      ]
     },
     "execution_count": 365,
     "metadata": {},
     "output_type": "execute_result"
    }
   ],
   "source": [
    "freq_np = np.array(freq)\n",
    "freq_log2 = np.log2(freq_np/(k**l))\n",
    "\n",
    "logF_cont = pd.read_csv('logF_continuous.txt', header=None)\n",
    "rho_blancmange = pd.read_csv('rho_blancmange.txt', header=None)\n",
    "rho_1comp_min = pd.read_csv('rho_1comp_min.txt', header=None)\n",
    "rho_lower = pd.read_csv('rho_lower.txt', header=None)\n",
    "rho_upper = pd.read_csv('rho_upper.txt', header=None)\n",
    "rho_null = pd.read_csv('rho_null.txt', header=None)\n",
    "\n",
    "np.size(rho)"
   ]
  },
  {
   "cell_type": "code",
   "execution_count": 366,
   "metadata": {},
   "outputs": [
    {
     "data": {
      "text/plain": [
       "Text(0, 0.5, 'Robustness')"
      ]
     },
     "execution_count": 366,
     "metadata": {},
     "output_type": "execute_result"
    },
    {
     "data": {
      "image/png": "[encoded data removed]",
      "text/plain": [
       "<Figure size 432x288 with 1 Axes>"
      ]
     },
     "metadata": {
      "needs_background": "light"
     },
     "output_type": "display_data"
    }
   ],
   "source": [
    "plt.plot(logF_cont, blancmange)\n",
    "plt.plot(logF_cont, rho_1comp_min)\n",
    "plt.plot(logF_cont, rho_null)\n",
    "plt.scatter(freq_log2, rho, marker='.')\n",
    "plt.xlabel('Frequency of elements in neutral set')\n",
    "plt.ylabel('Robustness')"
   ]
  },
  {
   "cell_type": "code",
   "execution_count": 301,
   "metadata": {},
   "outputs": [
    {
     "data": {
      "text/plain": [
       "65536"
      ]
     },
     "execution_count": 301,
     "metadata": {},
     "output_type": "execute_result"
    }
   ],
   "source": [
    "k**(k**l)"
   ]
  },
  {
   "cell_type": "code",
   "execution_count": 307,
   "metadata": {},
   "outputs": [
    {
     "name": "stdout",
     "output_type": "stream",
     "text": [
      "0\n"
     ]
    }
   ],
   "source": [
    "for i in range(1):\n",
    "    print(i)"
   ]
  },
  {
   "cell_type": "code",
   "execution_count": 314,
   "metadata": {},
   "outputs": [
    {
     "data": {
      "text/plain": [
       "7"
      ]
     },
     "execution_count": 314,
     "metadata": {},
     "output_type": "execute_result"
    }
   ],
   "source": [
    "np.sum([[0,1,2],\n",
    "     [3,0,1]])"
   ]
  },
  {
   "cell_type": "code",
   "execution_count": 350,
   "metadata": {},
   "outputs": [],
   "source": [
    "a = {}\n",
    "a[1] = [1,2]\n",
    "a[2] = [2,3]"
   ]
  },
  {
   "cell_type": "code",
   "execution_count": 333,
   "metadata": {},
   "outputs": [
    {
     "data": {
      "text/plain": [
       "[3, 4, 6]"
      ]
     },
     "execution_count": 333,
     "metadata": {},
     "output_type": "execute_result"
    }
   ],
   "source": [
    "sorted(set([4,6,3,4]))"
   ]
  },
  {
   "cell_type": "code",
   "execution_count": 351,
   "metadata": {},
   "outputs": [
    {
     "data": {
      "text/plain": [
       "[2, 2]"
      ]
     },
     "execution_count": 351,
     "metadata": {},
     "output_type": "execute_result"
    }
   ],
   "source": [
    "a[1][0] += 1\n",
    "a[1]"
   ]
  },
  {
   "cell_type": "code",
   "execution_count": 2,
   "metadata": {},
   "outputs": [
    {
     "name": "stdout",
     "output_type": "stream",
     "text": [
      "2.1.0+cpu\n"
     ]
    }
   ],
   "source": [
    "import torch\n",
    "print(torch.__version__)"
   ]
  },
  {
   "cell_type": "code",
   "execution_count": null,
   "metadata": {},
   "outputs": [],
   "source": []
  },
  {
   "cell_type": "code",
   "execution_count": null,
   "metadata": {},
   "outputs": [],
   "source": []
  }
 ],
 "metadata": {
  "kernelspec": {
   "display_name": "Python 3",
   "language": "python",
   "name": "python3"
  },
  "language_info": {
   "codemirror_mode": {
    "name": "ipython",
    "version": 3
   },
   "file_extension": ".py",
   "mimetype": "text/x-python",
   "name": "python",
   "nbconvert_exporter": "python",
   "pygments_lexer": "ipython3",
   "version": "3.8.5"
  }
 },
 "nbformat": 4,
 "nbformat_minor": 4
}
