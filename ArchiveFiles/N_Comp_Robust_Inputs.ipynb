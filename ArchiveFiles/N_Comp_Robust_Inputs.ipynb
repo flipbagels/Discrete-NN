{
 "cells": [
  {
   "cell_type": "code",
   "execution_count": 39,
   "metadata": {},
   "outputs": [],
   "source": [
    "import numpy as np\n",
    "import matplotlib.pyplot as plt\n",
    "import pandas as pd\n",
    "import time\n",
    "from tqdm import tqdm"
   ]
  },
  {
   "cell_type": "code",
   "execution_count": 138,
   "metadata": {},
   "outputs": [],
   "source": [
    "k = 2    # base (i.e. binary)\n",
    "l = 4    # no. inputs"
   ]
  },
  {
   "cell_type": "code",
   "execution_count": 139,
   "metadata": {},
   "outputs": [],
   "source": [
    "def bool_func(func_number, x):    # x number between 0 and 7 indicating the inputs of zeros and ones in binary for the 3 input boolean function.\n",
    "    return (func_number & (1 << x)) >> x\n",
    "\n",
    "def hamming_pair(x, y):\n",
    "    # Determines if two numbers are edge connected in Hamming graph of their binary representations.\n",
    "    z = x ^ y\n",
    "    return z and not(z & (z-1))\n",
    "\n",
    "def LZC(input_str):\n",
    "    # Function to find the LZ complexity of a string.\n",
    "    keys_dict = {}\n",
    "    ind = 0\n",
    "    inc = 1\n",
    "    while True:\n",
    "        if ind+inc > len(input_str):\n",
    "            break\n",
    "        sub_str = input_str[ind:ind + inc]\n",
    "        if sub_str in keys_dict:\n",
    "            inc += 1\n",
    "        else:\n",
    "            keys_dict[sub_str] = 0\n",
    "            ind += inc\n",
    "            inc = 1\n",
    "    len1 = len(keys_dict)\n",
    "    \n",
    "    input_str_rev = input_str[::-1]\n",
    "    keys_dict = {}\n",
    "    ind = 0\n",
    "    inc = 1\n",
    "    while True:\n",
    "        if ind+inc > len(input_str_rev):\n",
    "            break\n",
    "        sub_str = input_str_rev[ind:ind + inc]\n",
    "        if sub_str in keys_dict:\n",
    "            inc += 1\n",
    "        else:\n",
    "            keys_dict[sub_str] = 0\n",
    "            ind += inc\n",
    "            inc = 1\n",
    "    len2 = len(keys_dict)\n",
    "    \n",
    "    return np.log2(l)*(len1+len2)/2"
   ]
  },
  {
   "cell_type": "code",
   "execution_count": 141,
   "metadata": {},
   "outputs": [
    {
     "name": "stderr",
     "output_type": "stream",
     "text": [
      "100%|███████████████████████████████████████████████████████████████████████████████████████| 65536/65536 [00:14<00:00, 4642.14it/s]\n"
     ]
    }
   ],
   "source": [
    "# This code plots the robustness of neutral components agains the frequenc\n",
    "freq = []\n",
    "rho = []\n",
    "LZ = []\n",
    "\n",
    "for func_number in tqdm(range(0, k**(k**l), 1)):\n",
    "    \n",
    "    NS = {}      # Defines neutral set\n",
    "    G_N0 = {}    # Defines neutral set graphs for output 0\n",
    "    G_N1 = {}    # Defines neutral set graphs for output 1\n",
    "    NC0 = {}     # Defines neutral components of neutral set 0\n",
    "    NC1 = {}     # Defines neutral components of neutral set 1\n",
    "    \n",
    "    for i in range(k**l):\n",
    "        NS[i] = bool_func(func_number, i)\n",
    "    \n",
    "    count = 0                      # We use the same counter for both neutral sets as all that matters is that neutral components have the same value\n",
    "    for i in NS:\n",
    "        if NS[i] == 0:             # Begin by sorting the out the neutral components of sequences with output 0\n",
    "            com_ind = []           # Keep track of common indices for new binary sequence to check whether disjoint neutral components now join.\n",
    "            for key in NC0:\n",
    "                if hamming_pair(i, key):\n",
    "                    com_ind.append(NC0[key])\n",
    "                else:\n",
    "                    pass\n",
    "            if len(com_ind)>0:\n",
    "                NC0[i] = min(com_ind)\n",
    "                for key in NC0:\n",
    "                    if NC0[key] in com_ind:\n",
    "                        NC0[key] = min(com_ind)\n",
    "            else:\n",
    "                NC0[i] = count\n",
    "                count += 1\n",
    "        else:                       # This sorts through the neutral components of sequences with output 1\n",
    "            com_ind = []\n",
    "            for key in NC1:\n",
    "                if hamming_pair(i, key):\n",
    "                    com_ind.append(NC1([key]))\n",
    "                else:\n",
    "                    pass\n",
    "                if len(com_ind)>0:\n",
    "                    NC1[i] = min(com_ind)\n",
    "                    for key in NC1:\n",
    "                        if NC1[key] in com_ind:\n",
    "                            NC1[key] = min(com_ind)\n",
    "                else:\n",
    "                    NC1[i] = count\n",
    "                    count += 1\n",
    "    \n",
    "    \n",
    "    ind0 = sorted(set(NC0.values()))\n",
    "    ind1 = sorted(set(NC1.values()))\n",
    "    \n",
    "    for val in ind0:\n",
    "        G_N0[val] = [0,0]\n",
    "        for key_i in NC0:\n",
    "            if NC0[key_i] == val:\n",
    "                G_N0[val][0] += 1\n",
    "                for key_j in NC0:\n",
    "                    if NC0[key_j] == val and key_j > key_i:\n",
    "                        G_N0[val][1] = G_N0[val][1] + hamming_pair(key_i, key_j)\n",
    "                    else:\n",
    "                        pass\n",
    "            else:\n",
    "                pass\n",
    "    \n",
    "    for val in ind1:\n",
    "        G_N1[val] = [0,0]\n",
    "        for key_i in NC1:\n",
    "            if NC1[key_i] == val:\n",
    "                G_N1[val][0] += 1\n",
    "                for key_j in NC1:\n",
    "                    if NC1[key_j] == val and key_j > key_i:\n",
    "                        G_N1[val][1] = G_N1[val][1] + hamming_pair(key_i, key_j)\n",
    "                    else:\n",
    "                        pass\n",
    "            else:\n",
    "                pass  \n",
    "            \n",
    "    bin_func_num = format(func_number, '0'+str(k**l)+'b')\n",
    "    complexity = LZC(bin_func_num)\n",
    "    \n",
    "    for key in G_N0:\n",
    "        rho0 = (2*float(G_N0[key][1]))/(l*(k-1)*float(G_N0[key][0]))\n",
    "        rho.append(rho0)\n",
    "        freq0 = G_N0[key][0]\n",
    "        freq.append(freq0)\n",
    "        LZ.append(complexity)\n",
    "    for key in G_N1:\n",
    "        rho1 = (2*float(G_N1[key][1]))/(l*(k-1)*float(G_N1[key][0]))\n",
    "        rho.append(rho1)\n",
    "        freq1 = G_N1[key][0]\n",
    "        freq.append(freq1)\n",
    "        LZ.append(complexity)"
   ]
  },
  {
   "cell_type": "code",
   "execution_count": 142,
   "metadata": {},
   "outputs": [],
   "source": [
    "freq_np = np.array(freq)\n",
    "freq_log2 = np.log2(freq_np/(k**l))\n",
    "\n",
    "logF_cont = pd.read_csv('n_'+str(l)+'/logF_continuous.txt', header=None)\n",
    "rho_blancmange = pd.read_csv('n_'+str(l)+'/rho_blancmange.txt', header=None)\n",
    "rho_1comp_min = pd.read_csv('n_'+str(l)+'/rho_1comp_min.txt', header=None)\n",
    "rho_lower = pd.read_csv('n_'+str(l)+'/rho_lower.txt', header=None)\n",
    "rho_upper = pd.read_csv('n_'+str(l)+'/rho_upper.txt', header=None)\n",
    "rho_null = pd.read_csv('n_'+str(l)+'/rho_null.txt', header=None)"
   ]
  },
  {
   "cell_type": "code",
   "execution_count": 149,
   "metadata": {},
   "outputs": [
    {
     "data": {
      "image/png": "[encoded data removed]",
      "text/plain": [
       "<Figure size 432x288 with 1 Axes>"
      ]
     },
     "metadata": {
      "needs_background": "light"
     },
     "output_type": "display_data"
    }
   ],
   "source": [
    "plt.plot(logF_cont, rho_blancmange, label='Blancmange-like curve')\n",
    "plt.plot(logF_cont, rho_1comp_min, label='Minimum 1-component robustness')\n",
    "plt.plot(logF_cont, rho_null, label='Random null expectation')\n",
    "plt.scatter(freq_log2, rho, marker='.', label='Boolean function inputs')\n",
    "plt.title('Boolean functions with $n=4$ inputs')\n",
    "plt.xlabel('log$_2$(component frequency)')\n",
    "plt.ylabel('Robustness')\n",
    "plt.legend()\n",
    "plt.savefig('n_4_freq.png')\n",
    "plt.show()"
   ]
  },
  {
   "cell_type": "code",
   "execution_count": 150,
   "metadata": {},
   "outputs": [
    {
     "data": {
      "image/png": "[encoded data removed]",
      "text/plain": [
       "<Figure size 432x288 with 1 Axes>"
      ]
     },
     "metadata": {
      "needs_background": "light"
     },
     "output_type": "display_data"
    }
   ],
   "source": [
    "plt.scatter(LZ, rho, marker='.')\n",
    "plt.title('Boolean functions with $n=4$ inputs')\n",
    "plt.xlabel('LZ-complexity of function which defines neutral component')\n",
    "plt.ylabel('Robustness')\n",
    "plt.savefig('n_4_LZ.png')\n",
    "plt.show()"
   ]
  },
  {
   "cell_type": "code",
   "execution_count": 117,
   "metadata": {},
   "outputs": [
    {
     "name": "stdout",
     "output_type": "stream",
     "text": [
      "{'0': 0, '1': 0, '01': 0}\n"
     ]
    },
    {
     "data": {
      "text/plain": [
       "6.0"
      ]
     },
     "execution_count": 117,
     "metadata": {},
     "output_type": "execute_result"
    }
   ],
   "source": [
    "LZC('1010')"
   ]
  },
  {
   "cell_type": "code",
   "execution_count": 118,
   "metadata": {},
   "outputs": [
    {
     "data": {
      "text/plain": [
       "2.584962500721156"
      ]
     },
     "execution_count": 118,
     "metadata": {},
     "output_type": "execute_result"
    }
   ],
   "source": [
    "np.log2(6)"
   ]
  },
  {
   "cell_type": "code",
   "execution_count": null,
   "metadata": {},
   "outputs": [],
   "source": []
  }
 ],
 "metadata": {
  "kernelspec": {
   "display_name": "Python 3",
   "language": "python",
   "name": "python3"
  },
  "language_info": {
   "codemirror_mode": {
    "name": "ipython",
    "version": 3
   },
   "file_extension": ".py",
   "mimetype": "text/x-python",
   "name": "python",
   "nbconvert_exporter": "python",
   "pygments_lexer": "ipython3",
   "version": "3.8.5"
  }
 },
 "nbformat": 4,
 "nbformat_minor": 4
}
