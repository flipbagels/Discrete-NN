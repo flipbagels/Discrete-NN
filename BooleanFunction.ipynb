{
 "cells": [
  {
   "cell_type": "code",
   "execution_count": 1,
   "metadata": {},
   "outputs": [],
   "source": [
    "import numpy as np\n",
    "from sympy.logic import SOPform, boolalg\n",
    "from sympy import symbols, srepr, Not\n",
    "import re\n",
    "from tqdm import tqdm\n",
    "import matplotlib.pyplot as plt\n",
    "from BoolFunc import BoolFunc"
   ]
  },
  {
   "cell_type": "code",
   "execution_count": 4,
   "metadata": {},
   "outputs": [
    {
     "name": "stdout",
     "output_type": "stream",
     "text": [
      "[array([[ 1,  1, -1],\n",
      "       [-1, -1, -1],\n",
      "       [ 1,  1,  0],\n",
      "       [-1,  1, -1]]), array([[-1],\n",
      "       [ 1],\n",
      "       [-1],\n",
      "       [ 0]]), array([[ 0, -1,  0,  0]]), 1]\n",
      "0 | 1 | 2\n",
      "4\n"
     ]
    }
   ],
   "source": [
    "funca = BoolFunc(param_type=3)\n",
    "\n",
    "print(funca.get_params())\n",
    "print(funca.get_SOP())\n",
    "print(funca.get_D())"
   ]
  },
  {
   "cell_type": "code",
   "execution_count": 6,
   "metadata": {},
   "outputs": [
    {
     "name": "stderr",
     "output_type": "stream",
     "text": [
      "  0%|          | 0/1000 [00:00<?, ?it/s]"
     ]
    },
    {
     "name": "stderr",
     "output_type": "stream",
     "text": [
      "100%|██████████| 1000/1000 [02:53<00:00,  5.77it/s]\n"
     ]
    }
   ],
   "source": [
    "freq_dict = {}\n",
    "for i in tqdm(range(1000)):\n",
    "    func = BoolFunc(n=3, param_type=3)\n",
    "    count = 0\n",
    "    SOP = func.get_SOP()\n",
    "    if SOP == True or SOP == False or not isinstance(SOP, boolalg.Or):      # accounts for SOPs with just one literal for which equals() function seems to fail.\n",
    "        for key in freq_dict:\n",
    "            if func.get_SOP() == key:\n",
    "                freq_dict[key][0] += 1\n",
    "                count += 1\n",
    "                break\n",
    "    else:\n",
    "        for key in freq_dict:\n",
    "            if func.get_SOP().equals(key):\n",
    "                freq_dict[key][0] += 1\n",
    "                count += 1\n",
    "                break\n",
    "    if count == 0:\n",
    "        freq_dict[SOP] = [1, func.get_D()]\n",
    "        \n",
    "\n"
   ]
  },
  {
   "cell_type": "code",
   "execution_count": 8,
   "metadata": {},
   "outputs": [],
   "source": [
    "P = []\n",
    "D = []\n",
    "for key in freq_dict:\n",
    "    P.append(freq_dict[key][0]/1000)\n",
    "    D.append(freq_dict[key][1])"
   ]
  },
  {
   "cell_type": "code",
   "execution_count": 10,
   "metadata": {},
   "outputs": [
    {
     "data": {
      "image/png": "[encoded data removed]",
      "text/plain": [
       "<Figure size 432x288 with 1 Axes>"
      ]
     },
     "metadata": {
      "needs_background": "light"
     },
     "output_type": "display_data"
    }
   ],
   "source": [
    "x = np.linspace(1,12, 100)\n",
    "y = 0.15*2**(-x)\n",
    "\n",
    "plt.scatter(D, P)\n",
    "plt.plot(x,y, linestyle='--', label='$P\\propto2^{-D}$')\n",
    "plt.yscale('log', base=2)\n",
    "plt.title('1000 samples for type 3 NN with\\n W2 values sampling (0,1)')\n",
    "plt.xlabel('D')\n",
    "plt.ylabel('P')\n",
    "plt.legend()\n",
    "plt.savefig('P_vs_D_sampling_0_1_W2 _1000.png')"
   ]
  },
  {
   "cell_type": "code",
   "execution_count": null,
   "metadata": {},
   "outputs": [],
   "source": []
  }
 ],
 "metadata": {
  "kernelspec": {
   "display_name": "Python 3",
   "language": "python",
   "name": "python3"
  },
  "language_info": {
   "codemirror_mode": {
    "name": "ipython",
    "version": 3
   },
   "file_extension": ".py",
   "mimetype": "text/x-python",
   "name": "python",
   "nbconvert_exporter": "python",
   "pygments_lexer": "ipython3",
   "version": "3.8.5"
  }
 },
 "nbformat": 4,
 "nbformat_minor": 4
}
