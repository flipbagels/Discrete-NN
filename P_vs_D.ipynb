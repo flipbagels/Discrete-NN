{
 "cells": [
  {
   "cell_type": "code",
   "execution_count": 14,
   "metadata": {},
   "outputs": [
    {
     "name": "stdout",
     "output_type": "stream",
     "text": [
      "The autoreload extension is already loaded. To reload it, use:\n",
      "  %reload_ext autoreload\n"
     ]
    }
   ],
   "source": [
    "%load_ext autoreload\n",
    "%autoreload 2\n",
    "import numpy as np\n",
    "from sympy.logic import SOPform, boolalg\n",
    "from sympy import symbols, srepr, Not\n",
    "import re\n",
    "from tqdm import tqdm\n",
    "import matplotlib.pyplot as plt\n",
    "from BoolFuncModule.BoolFunc import BoolFunc\n",
    "import BoolFuncModule.ParameterAssignment as PA"
   ]
  },
  {
   "cell_type": "code",
   "execution_count": 11,
   "metadata": {},
   "outputs": [
    {
     "name": "stdout",
     "output_type": "stream",
     "text": [
      "(array([[ 1, -1, -1],\n",
      "       [ 0,  0,  0],\n",
      "       [ 0,  0,  1],\n",
      "       [ 0,  0,  1]]), array([[0],\n",
      "       [0],\n",
      "       [0],\n",
      "       [0]]), array([[-1, -1,  0,  0]]), 1)\n",
      "1 | 2 | ~0\n",
      "4\n"
     ]
    }
   ],
   "source": [
    "testFunc = BoolFunc(parameterType=3)\n",
    "\n",
    "print(testFunc.get_parameters())\n",
    "print(testFunc.get_SOP())\n",
    "print(testFunc.get_D())"
   ]
  },
  {
   "cell_type": "code",
   "execution_count": 25,
   "metadata": {},
   "outputs": [
    {
     "name": "stderr",
     "output_type": "stream",
     "text": [
      "100%|██████████| 10000/10000 [25:07<00:00,  6.63it/s] \n"
     ]
    }
   ],
   "source": [
    "sampleSize = 1000\n",
    "parameterType = 3\n",
    "\n",
    "frequencyDict = {}\n",
    "for i in tqdm(range(sampleSize)):\n",
    "    function = BoolFunc(n=3, parameterType=parameterType)\n",
    "    isInDict = False\n",
    "    SOP = function.get_SOP()\n",
    "    if SOP is True or SOP is False or not isinstance(SOP, boolalg.Or):      # accounts for SOPs with just one literal for which equals() function seems to fail.\n",
    "        for key in frequencyDict:\n",
    "            if function.get_SOP() == key:\n",
    "                frequencyDict[key][0] += 1\n",
    "                isInDict = True\n",
    "                break\n",
    "    else:\n",
    "        for key in frequencyDict:\n",
    "            if function.get_SOP().equals(key):\n",
    "                frequencyDict[key][0] += 1\n",
    "                isInDict = True\n",
    "                break\n",
    "    if isInDict is False:\n",
    "        frequencyDict[SOP] = [1, function.get_D()]\n",
    "        \n",
    "\n"
   ]
  },
  {
   "cell_type": "code",
   "execution_count": 26,
   "metadata": {},
   "outputs": [
    {
     "data": {
      "image/png": "[encoded data removed]",
      "text/plain": [
       "<Figure size 432x288 with 1 Axes>"
      ]
     },
     "metadata": {
      "needs_background": "light"
     },
     "output_type": "display_data"
    }
   ],
   "source": [
    "P = [val[0]/sampleSize for key, val in frequencyDict.items()]\n",
    "D = [val[1] for key, val in frequencyDict.items()]\n",
    "\n",
    "x = np.linspace(0, max(D), 100)\n",
    "y = 0.15*2**(-x)\n",
    "\n",
    "plt.scatter(D, P)\n",
    "plt.plot(x,y, linestyle='--', label='$P\\propto2^{-D}$')\n",
    "plt.yscale('log', base=2)\n",
    "plt.title(f'{sampleSize} samples for type {parameterType} NN')\n",
    "plt.xlabel('D')\n",
    "plt.ylabel('P')\n",
    "plt.legend()\n",
    "plt.savefig(f'type{parameterType}/P_vs_D_samples{sampleSize}.png')\n",
    "plt.show()"
   ]
  },
  {
   "cell_type": "code",
   "execution_count": 16,
   "metadata": {},
   "outputs": [
    {
     "data": {
      "text/plain": [
       "0"
      ]
     },
     "execution_count": 16,
     "metadata": {},
     "output_type": "execute_result"
    }
   ],
   "source": [
    "min(D)"
   ]
  },
  {
   "cell_type": "code",
   "execution_count": null,
   "metadata": {},
   "outputs": [],
   "source": []
  }
 ],
 "metadata": {
  "kernelspec": {
   "display_name": "Python 3",
   "language": "python",
   "name": "python3"
  },
  "language_info": {
   "codemirror_mode": {
    "name": "ipython",
    "version": 3
   },
   "file_extension": ".py",
   "mimetype": "text/x-python",
   "name": "python",
   "nbconvert_exporter": "python",
   "pygments_lexer": "ipython3",
   "version": "3.8.5"
  }
 },
 "nbformat": 4,
 "nbformat_minor": 4
}
